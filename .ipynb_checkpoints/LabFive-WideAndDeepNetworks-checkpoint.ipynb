{
 "cells": [
  {
   "cell_type": "markdown",
   "id": "7b866ed2-7a69-4a10-b5c7-79ab2e626838",
   "metadata": {},
   "source": [
    "# Lab Five: Wide and Deep Networks"
   ]
  },
  {
   "cell_type": "markdown",
   "id": "1743fbe5-1115-4b63-880d-0efea218f64d",
   "metadata": {},
   "source": [
    "### Garrett Webb, Jackson Heck, and Maria Harrison"
   ]
  },
  {
   "cell_type": "markdown",
   "id": "4d5a1af7",
   "metadata": {},
   "source": [
    "Notes:\n",
    "\n",
    "https://datascience.stackexchange.com/questions/45833/keras-model-only-predicts-one-class-for-all-the-test-images\n",
    "\n",
    "https://stackoverflow.com/questions/54589669/confusion-matrix-error-classification-metrics-cant-handle-a-mix-of-multilabel"
   ]
  },
  {
   "cell_type": "markdown",
   "id": "604072eb-cdec-4853-b309-3cf22cdac2b0",
   "metadata": {},
   "source": [
    "## 1. Preparation"
   ]
  },
  {
   "cell_type": "markdown",
   "id": "fc2bf21b-bea7-44ba-9741-19c286718d54",
   "metadata": {},
   "source": [
    "### 1.1 Define and Prepare Class Variables"
   ]
  },
  {
   "cell_type": "markdown",
   "id": "70073f6d-5fe6-41cf-87ae-c54ab4021238",
   "metadata": {},
   "source": [
    "[1 points] Define and prepare your class variables. Use proper variable representations (int, float, one-hot, etc.). Use pre-processing methods (as needed) for dimensionality reduction, scaling, etc. Remove variables that are not needed/useful for the analysis. Describe the final dataset that is used for classification/regression (include a description of any newly formed variables you created). "
   ]
  },
  {
   "cell_type": "markdown",
   "id": "05c02003-a6dd-417e-8272-7969943bf690",
   "metadata": {},
   "source": [
    "Dataset: Contraceptive Method Choice Data Set URL: https://archive.ics.uci.edu/ml/datasets/Contraceptive+Method+Choice"
   ]
  },
  {
   "cell_type": "code",
   "execution_count": 1,
   "id": "3b6bac2e-4d0b-48bd-bdd4-e18492fcd623",
   "metadata": {},
   "outputs": [
    {
     "data": {
      "text/html": [
       "<div>\n",
       "<style scoped>\n",
       "    .dataframe tbody tr th:only-of-type {\n",
       "        vertical-align: middle;\n",
       "    }\n",
       "\n",
       "    .dataframe tbody tr th {\n",
       "        vertical-align: top;\n",
       "    }\n",
       "\n",
       "    .dataframe thead th {\n",
       "        text-align: right;\n",
       "    }\n",
       "</style>\n",
       "<table border=\"1\" class=\"dataframe\">\n",
       "  <thead>\n",
       "    <tr style=\"text-align: right;\">\n",
       "      <th></th>\n",
       "      <th>wife_age</th>\n",
       "      <th>wife_education_level</th>\n",
       "      <th>husband_education_level</th>\n",
       "      <th>num_children</th>\n",
       "      <th>isMuslim</th>\n",
       "      <th>isNotWorking</th>\n",
       "      <th>husband_occupation</th>\n",
       "      <th>standard_of_living</th>\n",
       "      <th>isNotExposedToMedia</th>\n",
       "      <th>contraceptive_method_used</th>\n",
       "    </tr>\n",
       "  </thead>\n",
       "  <tbody>\n",
       "    <tr>\n",
       "      <th>0</th>\n",
       "      <td>24</td>\n",
       "      <td>2</td>\n",
       "      <td>3</td>\n",
       "      <td>3</td>\n",
       "      <td>1</td>\n",
       "      <td>1</td>\n",
       "      <td>2</td>\n",
       "      <td>3</td>\n",
       "      <td>0</td>\n",
       "      <td>1</td>\n",
       "    </tr>\n",
       "    <tr>\n",
       "      <th>1</th>\n",
       "      <td>45</td>\n",
       "      <td>1</td>\n",
       "      <td>3</td>\n",
       "      <td>10</td>\n",
       "      <td>1</td>\n",
       "      <td>1</td>\n",
       "      <td>3</td>\n",
       "      <td>4</td>\n",
       "      <td>0</td>\n",
       "      <td>1</td>\n",
       "    </tr>\n",
       "    <tr>\n",
       "      <th>2</th>\n",
       "      <td>43</td>\n",
       "      <td>2</td>\n",
       "      <td>3</td>\n",
       "      <td>7</td>\n",
       "      <td>1</td>\n",
       "      <td>1</td>\n",
       "      <td>3</td>\n",
       "      <td>4</td>\n",
       "      <td>0</td>\n",
       "      <td>1</td>\n",
       "    </tr>\n",
       "    <tr>\n",
       "      <th>3</th>\n",
       "      <td>42</td>\n",
       "      <td>3</td>\n",
       "      <td>2</td>\n",
       "      <td>9</td>\n",
       "      <td>1</td>\n",
       "      <td>1</td>\n",
       "      <td>3</td>\n",
       "      <td>3</td>\n",
       "      <td>0</td>\n",
       "      <td>1</td>\n",
       "    </tr>\n",
       "    <tr>\n",
       "      <th>4</th>\n",
       "      <td>36</td>\n",
       "      <td>3</td>\n",
       "      <td>3</td>\n",
       "      <td>8</td>\n",
       "      <td>1</td>\n",
       "      <td>1</td>\n",
       "      <td>3</td>\n",
       "      <td>2</td>\n",
       "      <td>0</td>\n",
       "      <td>1</td>\n",
       "    </tr>\n",
       "  </tbody>\n",
       "</table>\n",
       "</div>"
      ],
      "text/plain": [
       "   wife_age  wife_education_level  husband_education_level  num_children  \\\n",
       "0        24                     2                        3             3   \n",
       "1        45                     1                        3            10   \n",
       "2        43                     2                        3             7   \n",
       "3        42                     3                        2             9   \n",
       "4        36                     3                        3             8   \n",
       "\n",
       "   isMuslim  isNotWorking  husband_occupation  standard_of_living  \\\n",
       "0         1             1                   2                   3   \n",
       "1         1             1                   3                   4   \n",
       "2         1             1                   3                   4   \n",
       "3         1             1                   3                   3   \n",
       "4         1             1                   3                   2   \n",
       "\n",
       "   isNotExposedToMedia  contraceptive_method_used  \n",
       "0                    0                          1  \n",
       "1                    0                          1  \n",
       "2                    0                          1  \n",
       "3                    0                          1  \n",
       "4                    0                          1  "
      ]
     },
     "execution_count": 1,
     "metadata": {},
     "output_type": "execute_result"
    }
   ],
   "source": [
    "import pandas as pd\n",
    "import numpy as np\n",
    "from sklearn.metrics import accuracy_score\n",
    "\n",
    "df = pd.read_csv('./data/cmc.data')\n",
    "\n",
    "df.head()"
   ]
  },
  {
   "cell_type": "code",
   "execution_count": 2,
   "id": "5c9b6da5-9c28-4501-af19-5805c7b32d4f",
   "metadata": {},
   "outputs": [
    {
     "name": "stdout",
     "output_type": "stream",
     "text": [
      "<class 'pandas.core.frame.DataFrame'>\n",
      "RangeIndex: 1473 entries, 0 to 1472\n",
      "Data columns (total 10 columns):\n",
      " #   Column                     Non-Null Count  Dtype\n",
      "---  ------                     --------------  -----\n",
      " 0   wife_age                   1473 non-null   int64\n",
      " 1   wife_education_level       1473 non-null   int64\n",
      " 2   husband_education_level    1473 non-null   int64\n",
      " 3   num_children               1473 non-null   int64\n",
      " 4   isMuslim                   1473 non-null   int64\n",
      " 5   isNotWorking               1473 non-null   int64\n",
      " 6   husband_occupation         1473 non-null   int64\n",
      " 7   standard_of_living         1473 non-null   int64\n",
      " 8   isNotExposedToMedia        1473 non-null   int64\n",
      " 9   contraceptive_method_used  1473 non-null   int64\n",
      "dtypes: int64(10)\n",
      "memory usage: 115.2 KB\n",
      "None\n"
     ]
    }
   ],
   "source": [
    "# find data types\n",
    "print(df.info())"
   ]
  },
  {
   "cell_type": "code",
   "execution_count": 3,
   "id": "36f0b33d-f8cf-469b-af51-6db1eec9601a",
   "metadata": {},
   "outputs": [],
   "source": [
    "categorical_features = ['isMuslim','isNotWorking','isNotExposedToMedia', 'husband_occupation', 'wife_education_level', 'husband_education_level', 'standard_of_living'];\n",
    "df[categorical_features] = df[categorical_features].astype(np.object_)"
   ]
  },
  {
   "cell_type": "code",
   "execution_count": 4,
   "id": "4b947424-20ea-48bf-8fae-b9d633e21d79",
   "metadata": {},
   "outputs": [
    {
     "name": "stdout",
     "output_type": "stream",
     "text": [
      "<class 'pandas.core.frame.DataFrame'>\n",
      "RangeIndex: 1473 entries, 0 to 1472\n",
      "Data columns (total 10 columns):\n",
      " #   Column                     Non-Null Count  Dtype \n",
      "---  ------                     --------------  ----- \n",
      " 0   wife_age                   1473 non-null   int64 \n",
      " 1   wife_education_level       1473 non-null   object\n",
      " 2   husband_education_level    1473 non-null   object\n",
      " 3   num_children               1473 non-null   int64 \n",
      " 4   isMuslim                   1473 non-null   object\n",
      " 5   isNotWorking               1473 non-null   object\n",
      " 6   husband_occupation         1473 non-null   object\n",
      " 7   standard_of_living         1473 non-null   object\n",
      " 8   isNotExposedToMedia        1473 non-null   object\n",
      " 9   contraceptive_method_used  1473 non-null   int64 \n",
      "dtypes: int64(3), object(7)\n",
      "memory usage: 115.2+ KB\n",
      "None\n"
     ]
    }
   ],
   "source": [
    "# find data types\n",
    "print(df.info())"
   ]
  },
  {
   "cell_type": "markdown",
   "id": "e35543d2-d8f3-4920-b6d0-69b1feb2f031",
   "metadata": {},
   "source": [
    "The categorical features are \"isMuslim\", \"isNotWorking\", \"isNotExposedToMedia\", \"wife_education_level\", \"husband_education_level\", \"standard_of_living\", and \"husband_occupation\". All of the categorical features are already encoded as integers. Eventually, we will deal with these integers as one-hot encodings.\n",
    "\n",
    "\"wife_age\" and \"num_children\" are numeric, continuous features. We will eventually scale these features once we separate our dataset into training and test sets.\n",
    "\n",
    "The target is \"contraceptive_method_used\", which is also a categorical feature."
   ]
  },
  {
   "cell_type": "code",
   "execution_count": 5,
   "id": "dcea1a0d-a7c2-448e-81ea-d94b6206bba6",
   "metadata": {},
   "outputs": [],
   "source": [
    "numeric_features = ['wife_age', 'num_children']"
   ]
  },
  {
   "cell_type": "code",
   "execution_count": 6,
   "id": "3f22ee04-4421-4b42-992d-44dfdcf9cb76",
   "metadata": {},
   "outputs": [
    {
     "name": "stdout",
     "output_type": "stream",
     "text": [
      "wife_age\n",
      "[24 45 43 42 36 19 38 21 27 44 26 48 39 37 46 40 29 31 33 25 28 47 32 49\n",
      " 34 20 22 30 23 35 41 17 18 16]\n",
      "wife_education_level\n",
      "[2 1 3 4]\n",
      "husband_education_level\n",
      "[3 2 4 1]\n",
      "num_children\n",
      "[ 3 10  7  9  8  0  6  1  2  4  5 12 11 13 16]\n",
      "isMuslim\n",
      "[1 0]\n",
      "isNotWorking\n",
      "[1 0]\n",
      "husband_occupation\n",
      "[2 3 1 4]\n",
      "standard_of_living\n",
      "[3 4 2 1]\n",
      "isNotExposedToMedia\n",
      "[0 1]\n",
      "contraceptive_method_used\n",
      "[1 2 3]\n"
     ]
    }
   ],
   "source": [
    "for col in df:\n",
    "    print(col)\n",
    "    print(df[col].unique())"
   ]
  },
  {
   "cell_type": "markdown",
   "id": "2b42f703-e4ab-42be-a29a-e9f49642bc92",
   "metadata": {},
   "source": [
    "For education level, 1 refers to a low level of education while a 4 refers to a high level of education.\n",
    "\n",
    "For the occupation of the husband, a 1 refers to a job in the \"professional, technical, or clerical\" field, a 2 refers to a job in the \"sales or service\" field, a 3 refers to a job in the \"manual\" field, and a 4 refers to a job in the \"agricultural\" field.\n",
    "\n",
    "For the target, the contraceptive method used, a 1 refers to \"no use,\" a 2 refers to \"long-term use,\" and a 3 refers to \"short-term use.\""
   ]
  },
  {
   "cell_type": "markdown",
   "id": "1176b988-1a90-4d2d-b074-eb3f9f78c3ec",
   "metadata": {},
   "source": [
    "From the above outputs, we can see that there are no strange values in our dataset."
   ]
  },
  {
   "cell_type": "code",
   "execution_count": 7,
   "id": "1e9dd70a-ff59-4cce-bee5-bda72bbbeac0",
   "metadata": {},
   "outputs": [
    {
     "data": {
      "text/plain": [
       "48"
      ]
     },
     "execution_count": 7,
     "metadata": {},
     "output_type": "execute_result"
    }
   ],
   "source": [
    "# find the number of duplicates\n",
    "len(df[df.duplicated()])"
   ]
  },
  {
   "cell_type": "markdown",
   "id": "077ccd49-ee06-48b0-8e48-6622abda7dec",
   "metadata": {},
   "source": [
    "This shows that 48 samples are duplicates. Since there over 1,000 samples and only 10 attributes, it is likely that some women will have the same answers to the survey resulting in the duplicate data. Unfortunately, it is difficult to determine if they are true duplicates since the dataset does not include any uniquely identifying information about each individual such as name, date of birth, or single identity number from an Indonesian identiy card.\n",
    "\n",
    "Since there are no missing values and not enough information to verify the duplicates, there is no need to impute any missing information or drop any instances or features. Additionally, we believe all features might be useful to predict the target and give us information on what factors in to choosing a contraceptive method. If we could verify that the duplicates were the answers of the same woman, then we would drop the duplicates in order to ensure that there is only one instance of each woman who answered the survey. If there were missing values, then we could use different methods of imputation depending on what type of data was missing."
   ]
  },
  {
   "cell_type": "markdown",
   "id": "30af48a3-3a4f-4b12-a531-b3c2d4cd3f33",
   "metadata": {},
   "source": [
    "The dataset we are using is a subset of the data collected during the 1987 National Indonesia Contraceptive Prevalence Survey. The final dataset contains 1473 samples and 9 features, including numeric and categorical data. We will use this dataset to predict what type of contraceptive method a women would use based on the features."
   ]
  },
  {
   "cell_type": "markdown",
   "id": "ff610e50-adbe-4930-adb1-585357723426",
   "metadata": {},
   "source": [
    "### 1.2 Identify Cross-Product Features"
   ]
  },
  {
   "cell_type": "markdown",
   "id": "57eb7471-9813-4ac6-8b98-b29033f112ab",
   "metadata": {},
   "source": [
    "[1 points] Identify groups of features in your data that should be combined into cross-product features. Provide justification for why these features should be crossed (or why some features should not be crossed). "
   ]
  },
  {
   "cell_type": "markdown",
   "id": "84ca19a3-fbf4-4984-b19d-ad871911a3b3",
   "metadata": {},
   "source": [
    "Even though our data was originally in all numeric values, we created a new pandas dataframe with string values to use for future cross-product features."
   ]
  },
  {
   "cell_type": "code",
   "execution_count": 8,
   "id": "d70d67c3-83fc-452e-98d1-2a2aedfc2c67",
   "metadata": {},
   "outputs": [
    {
     "data": {
      "text/html": [
       "<div>\n",
       "<style scoped>\n",
       "    .dataframe tbody tr th:only-of-type {\n",
       "        vertical-align: middle;\n",
       "    }\n",
       "\n",
       "    .dataframe tbody tr th {\n",
       "        vertical-align: top;\n",
       "    }\n",
       "\n",
       "    .dataframe thead th {\n",
       "        text-align: right;\n",
       "    }\n",
       "</style>\n",
       "<table border=\"1\" class=\"dataframe\">\n",
       "  <thead>\n",
       "    <tr style=\"text-align: right;\">\n",
       "      <th></th>\n",
       "      <th>wife_age</th>\n",
       "      <th>wife_education_level</th>\n",
       "      <th>husband_education_level</th>\n",
       "      <th>num_children</th>\n",
       "      <th>isMuslim</th>\n",
       "      <th>isNotWorking</th>\n",
       "      <th>husband_occupation</th>\n",
       "      <th>standard_of_living</th>\n",
       "      <th>isNotExposedToMedia</th>\n",
       "      <th>contraceptive_method_used</th>\n",
       "    </tr>\n",
       "  </thead>\n",
       "  <tbody>\n",
       "    <tr>\n",
       "      <th>0</th>\n",
       "      <td>24</td>\n",
       "      <td>2</td>\n",
       "      <td>3</td>\n",
       "      <td>3</td>\n",
       "      <td>1</td>\n",
       "      <td>1</td>\n",
       "      <td>2</td>\n",
       "      <td>3</td>\n",
       "      <td>0</td>\n",
       "      <td>1</td>\n",
       "    </tr>\n",
       "    <tr>\n",
       "      <th>1</th>\n",
       "      <td>45</td>\n",
       "      <td>1</td>\n",
       "      <td>3</td>\n",
       "      <td>10</td>\n",
       "      <td>1</td>\n",
       "      <td>1</td>\n",
       "      <td>3</td>\n",
       "      <td>4</td>\n",
       "      <td>0</td>\n",
       "      <td>1</td>\n",
       "    </tr>\n",
       "    <tr>\n",
       "      <th>2</th>\n",
       "      <td>43</td>\n",
       "      <td>2</td>\n",
       "      <td>3</td>\n",
       "      <td>7</td>\n",
       "      <td>1</td>\n",
       "      <td>1</td>\n",
       "      <td>3</td>\n",
       "      <td>4</td>\n",
       "      <td>0</td>\n",
       "      <td>1</td>\n",
       "    </tr>\n",
       "    <tr>\n",
       "      <th>3</th>\n",
       "      <td>42</td>\n",
       "      <td>3</td>\n",
       "      <td>2</td>\n",
       "      <td>9</td>\n",
       "      <td>1</td>\n",
       "      <td>1</td>\n",
       "      <td>3</td>\n",
       "      <td>3</td>\n",
       "      <td>0</td>\n",
       "      <td>1</td>\n",
       "    </tr>\n",
       "    <tr>\n",
       "      <th>4</th>\n",
       "      <td>36</td>\n",
       "      <td>3</td>\n",
       "      <td>3</td>\n",
       "      <td>8</td>\n",
       "      <td>1</td>\n",
       "      <td>1</td>\n",
       "      <td>3</td>\n",
       "      <td>2</td>\n",
       "      <td>0</td>\n",
       "      <td>1</td>\n",
       "    </tr>\n",
       "  </tbody>\n",
       "</table>\n",
       "</div>"
      ],
      "text/plain": [
       "   wife_age wife_education_level husband_education_level  num_children  \\\n",
       "0        24                    2                       3             3   \n",
       "1        45                    1                       3            10   \n",
       "2        43                    2                       3             7   \n",
       "3        42                    3                       2             9   \n",
       "4        36                    3                       3             8   \n",
       "\n",
       "  isMuslim isNotWorking husband_occupation standard_of_living  \\\n",
       "0        1            1                  2                  3   \n",
       "1        1            1                  3                  4   \n",
       "2        1            1                  3                  4   \n",
       "3        1            1                  3                  3   \n",
       "4        1            1                  3                  2   \n",
       "\n",
       "  isNotExposedToMedia  contraceptive_method_used  \n",
       "0                   0                          1  \n",
       "1                   0                          1  \n",
       "2                   0                          1  \n",
       "3                   0                          1  \n",
       "4                   0                          1  "
      ]
     },
     "execution_count": 8,
     "metadata": {},
     "output_type": "execute_result"
    }
   ],
   "source": [
    "df_strings = df.copy()\n",
    "df_strings.head()"
   ]
  },
  {
   "cell_type": "code",
   "execution_count": 9,
   "id": "c8a7de3f-c939-4833-a8a9-8dda2efdf804",
   "metadata": {},
   "outputs": [],
   "source": [
    "df_strings['wife_education_level'] = df_strings['wife_education_level'].replace([1, 2, 3, 4], ['lowest level of education', 'low level of education', 'high level of education', 'highest level of education'])\n",
    "df_strings['husband_education_level'] = df_strings['husband_education_level'].replace([1, 2, 3, 4], ['lowest level of education', 'low level of education', 'high level of education', 'highest level of education'])\n",
    "df_strings['isMuslim'] = df_strings['isMuslim'].replace([0, 1], ['not Muslim', 'Muslim'])\n",
    "df_strings['isNotWorking'] = df_strings['isNotWorking'].replace([0, 1], ['working', 'not working'])\n",
    "df_strings['husband_occupation'] = df_strings['husband_occupation'].replace([1, 2, 3, 4], ['professional', 'sales or service', 'manual', 'agricultural'])\n",
    "df_strings['standard_of_living'] = df_strings['standard_of_living'].replace([1, 2, 3, 4], ['lowest standard of living', 'low standard of living', 'high standard of living', 'highest standard of living'])\n",
    "df_strings['isNotExposedToMedia'] = df_strings['isNotExposedToMedia'].replace([0, 1], ['exposed to media', 'not exposed to media'])\n",
    "df_strings['contraceptive_method_used'] = df_strings['contraceptive_method_used'].replace([1,2,3], ['no use', 'long-term use', 'short-term use'])"
   ]
  },
  {
   "cell_type": "code",
   "execution_count": 10,
   "id": "3d56ef46-9910-42d2-b7f9-0f368315e06c",
   "metadata": {},
   "outputs": [],
   "source": [
    "## separate dataframe into features and target \n",
    "X_strings = df_strings.loc[:, df_strings.columns != 'contraceptive_method_used']\n",
    "y_strings = df_strings['contraceptive_method_used'].to_numpy() "
   ]
  },
  {
   "cell_type": "code",
   "execution_count": 11,
   "id": "dd666ba6-8fb3-45bc-bd4f-7b73d9fd613b",
   "metadata": {},
   "outputs": [],
   "source": [
    "from sklearn.model_selection import train_test_split\n",
    "\n",
    "X_train_strings, X_test_strings, y_train_strings, y_test_strings = train_test_split(X_strings, y_strings, test_size=.2, stratify=y_strings)"
   ]
  },
  {
   "cell_type": "code",
   "execution_count": 12,
   "id": "00c79128-7eca-49e6-a21d-a97acf8863c9",
   "metadata": {},
   "outputs": [],
   "source": [
    "from sklearn.preprocessing import LabelEncoder\n",
    "# define objects that can encode each variable as integer    \n",
    "encoders = dict() # save each encoder in dictionary\n",
    "\n",
    "y_train_df = pd.DataFrame(y_train_strings, columns= ['contraceptive_method_used'])\n",
    "y_test_df = pd.DataFrame(y_test_strings, columns= ['contraceptive_method_used'])\n",
    "\n",
    "# train all encoders (special case the target )\n",
    "for col in categorical_features+['contraceptive_method_used']:\n",
    "    if col==\"contraceptive_method_used\":\n",
    "        # special case the target, just replace the column\n",
    "        y_train_df[col] = y_train_df[col].str.strip()\n",
    "        y_test_df[col] = y_test_df[col].str.strip()\n",
    "        tmp = LabelEncoder()\n",
    "        y_train_df[col] = tmp.fit_transform(y_train_df[col])\n",
    "        y_test_df[col] = tmp.transform(y_test_df[col])\n",
    "    else:\n",
    "        # integer encode strings that are features\n",
    "        X_train_strings[col] = X_train_strings[col].str.strip()\n",
    "        X_test_strings[col] = X_test_strings[col].str.strip()\n",
    "        encoders[col] = LabelEncoder() # save the encoder\n",
    "        X_train_strings[col+'_int'] = encoders[col].fit_transform(X_train_strings[col])\n",
    "        X_test_strings[col+'_int'] = encoders[col].transform(X_test_strings[col])"
   ]
  },
  {
   "cell_type": "markdown",
   "id": "ce3b5fbe-caf8-4cbc-8b74-e70eafa2ceb4",
   "metadata": {},
   "source": [
    "### 1.3 Choose Metric"
   ]
  },
  {
   "cell_type": "markdown",
   "id": "22697cd4-fbbf-4023-a8e3-fb82a175f748",
   "metadata": {},
   "source": [
    "[1 points] Choose and explain what metric(s) you will use to evaluate your algorithm’s performance. You should give a detailed argument for why this (these) metric(s) are appropriate on your data. That is, why is the metric appropriate for the task (e.g., in terms of the business case for the task). Please note: rarely is accuracy the best evaluation metric to use. Think deeply about an appropriate measure of performance."
   ]
  },
  {
   "cell_type": "markdown",
   "id": "bf560ba3-9c07-4816-b679-fb665a32d604",
   "metadata": {},
   "source": [
    "### 1.4 Choose Method For Dividing Data"
   ]
  },
  {
   "cell_type": "markdown",
   "id": "8f191296-1a55-45de-911b-f7bf3db12127",
   "metadata": {},
   "source": [
    "[1 points] Choose the method you will use for dividing your data into training and testing (i.e., are you using Stratified 10-fold cross validation? Shuffle splits? Why?). Explain why your chosen method is appropriate or use more than one method as appropriate. Argue why your cross validation method is a realistic mirroring of how an algorithm would be used in practice. "
   ]
  },
  {
   "cell_type": "code",
   "execution_count": 13,
   "id": "959ed264-7acc-4e19-9487-18a80ac39f08",
   "metadata": {},
   "outputs": [],
   "source": [
    "## separate dataframe into features and target \n",
    "X = df.loc[:, df.columns != 'contraceptive_method_used'].to_numpy()\n",
    "y = df['contraceptive_method_used'].to_numpy() "
   ]
  },
  {
   "cell_type": "code",
   "execution_count": 14,
   "id": "1c4f02b1-22b0-488f-b145-d7fca5e522fb",
   "metadata": {},
   "outputs": [],
   "source": [
    "from sklearn.model_selection import train_test_split\n",
    "\n",
    "X_train, X_test, y_train, y_test = train_test_split(X, y, test_size=.2, random_state=1)"
   ]
  },
  {
   "cell_type": "code",
   "execution_count": 15,
   "id": "1f9cd72e-f0f2-4356-8a30-e29a48285435",
   "metadata": {},
   "outputs": [
    {
     "name": "stdout",
     "output_type": "stream",
     "text": [
      "              precision    recall  f1-score   support\n",
      "\n",
      "           1       0.68      0.53      0.60       129\n",
      "           2       0.39      0.58      0.47        69\n",
      "           3       0.48      0.45      0.47        97\n",
      "\n",
      "    accuracy                           0.52       295\n",
      "   macro avg       0.52      0.52      0.51       295\n",
      "weighted avg       0.55      0.52      0.52       295\n",
      "\n"
     ]
    }
   ],
   "source": [
    "from sklearn.preprocessing import StandardScaler\n",
    "from sklearn.decomposition import PCA\n",
    "from sklearn.linear_model import LogisticRegression\n",
    "from sklearn.pipeline import Pipeline\n",
    "from sklearn.metrics import classification_report\n",
    "\n",
    "pipe_lr = Pipeline([('scl', StandardScaler()),\n",
    "                    ('pca', PCA(n_components=8, svd_solver='randomized', random_state=1)),\n",
    "                    ('clf', LogisticRegression(class_weight='balanced', random_state=1))])\n",
    "\n",
    "pipe_lr.fit(X_train, y_train)\n",
    "y_pred = pipe_lr.predict(X_test)\n",
    "print(classification_report(y_test, y_pred))"
   ]
  },
  {
   "cell_type": "markdown",
   "id": "3b0d1619-edd1-4bc5-9817-d33c99530042",
   "metadata": {},
   "source": [
    "The above is a split that is stratified on the target values. This report shows a quick overview of the resulting precision, recall, f1-score, and the number of occurrences of each class."
   ]
  },
  {
   "cell_type": "code",
   "execution_count": 16,
   "id": "8bc05e2f-7bb4-4c29-966b-d877e9fc9b74",
   "metadata": {},
   "outputs": [
    {
     "name": "stdout",
     "output_type": "stream",
     "text": [
      "{1: 42.701968771215206, 2: 22.60692464358452, 3: 34.691106585200274}\n"
     ]
    }
   ],
   "source": [
    "uniques, counts = np.unique(y, return_counts=True)\n",
    "\n",
    "percentages = dict(zip(uniques, counts * 100 / len(y)))\n",
    "\n",
    "print(percentages)"
   ]
  },
  {
   "cell_type": "code",
   "execution_count": 17,
   "id": "343d5850-4ef3-49f4-86be-cc09c660bb78",
   "metadata": {},
   "outputs": [
    {
     "name": "stdout",
     "output_type": "stream",
     "text": [
      "{1: 42.444821731748725, 2: 22.410865874363328, 3: 35.144312393887944}\n"
     ]
    }
   ],
   "source": [
    "uniques, counts = np.unique(y_train, return_counts=True)\n",
    "\n",
    "percentages = dict(zip(uniques, counts * 100 / len(y_train)))\n",
    "\n",
    "print(percentages)"
   ]
  },
  {
   "cell_type": "markdown",
   "id": "7afb412e-a9db-46f7-b57a-b96ecda809fe",
   "metadata": {},
   "source": [
    "As we can see, our original target set does not have equal proportion for all three classes. Thus, we want to preserve the percentage of samples for each class so we are training our model on a good portion of each class. Therefore, we decided to use Stratified K-fold cross validation."
   ]
  },
  {
   "cell_type": "code",
   "execution_count": 18,
   "id": "cc36f34c-808f-4e3d-975c-f77ef62a4f20",
   "metadata": {},
   "outputs": [
    {
     "name": "stdout",
     "output_type": "stream",
     "text": [
      "{1: 43.728813559322035, 2: 23.389830508474578, 3: 32.88135593220339}\n"
     ]
    }
   ],
   "source": [
    "uniques, counts = np.unique(y_test, return_counts=True)\n",
    "\n",
    "percentages = dict(zip(uniques, counts * 100 / len(y_test)))\n",
    "\n",
    "print(percentages)"
   ]
  },
  {
   "cell_type": "markdown",
   "id": "f5eecc4e-a2c1-4558-a240-907c7b2f14c1",
   "metadata": {},
   "source": [
    "From above, we can see the percentage of each class is roughly the same in the original target set, the training set, and the testing set."
   ]
  },
  {
   "cell_type": "code",
   "execution_count": 19,
   "id": "a5a27acb-9f20-4112-9a36-78abf911b211",
   "metadata": {},
   "outputs": [],
   "source": [
    "from sklearn.model_selection import StratifiedKFold\n",
    "kfold = StratifiedKFold(n_splits=10).split(X_train, y_train)"
   ]
  },
  {
   "cell_type": "code",
   "execution_count": 20,
   "id": "d2623fdd-06c8-4c11-8116-739d46dded5b",
   "metadata": {},
   "outputs": [
    {
     "name": "stdout",
     "output_type": "stream",
     "text": [
      "<class 'numpy.ndarray'>\n"
     ]
    }
   ],
   "source": [
    "print(type(X_train))"
   ]
  },
  {
   "cell_type": "code",
   "execution_count": 21,
   "id": "539e8f31-3c22-4593-ae98-33228e0ea8fe",
   "metadata": {},
   "outputs": [
    {
     "name": "stdout",
     "output_type": "stream",
     "text": [
      "Fold: 1, Acc: 0.500\n",
      "Fold: 2, Acc: 0.517\n",
      "Fold: 3, Acc: 0.508\n",
      "Fold: 4, Acc: 0.517\n",
      "Fold: 5, Acc: 0.508\n",
      "Fold: 6, Acc: 0.500\n",
      "Fold: 7, Acc: 0.432\n",
      "Fold: 8, Acc: 0.508\n",
      "Fold: 9, Acc: 0.487\n",
      "Fold: 10, Acc: 0.556\n",
      "\n",
      "CV accuracy: 0.503 +/- 0.029\n"
     ]
    }
   ],
   "source": [
    "scores = []\n",
    "for k, (train, test) in enumerate(kfold):\n",
    "    pipe_lr.fit(X_train[train], y_train[train])\n",
    "    score = pipe_lr.score(X_train[test], y_train[test])\n",
    "    scores.append(score)\n",
    "    print('Fold: %s, Acc: %.3f' % (k+1, score))\n",
    "    \n",
    "print('\\nCV accuracy: %.3f +/- %.3f' % (np.mean(scores), np.std(scores)))"
   ]
  },
  {
   "cell_type": "code",
   "execution_count": 22,
   "id": "1686f2ea-1530-4616-8577-29258a39be8a",
   "metadata": {},
   "outputs": [
    {
     "name": "stdout",
     "output_type": "stream",
     "text": [
      "CV accuracy scores: [0.5        0.51694915 0.50847458 0.51694915 0.50847458 0.5\n",
      " 0.43220339 0.50847458 0.48717949 0.55555556]\n",
      "CV accuracy: 0.503 +/- 0.029\n"
     ]
    }
   ],
   "source": [
    "from sklearn.model_selection import cross_val_score\n",
    "\n",
    "scores = cross_val_score(estimator=pipe_lr,\n",
    "                         X=X_train,\n",
    "                         y=y_train,\n",
    "                         cv=10,\n",
    "                         n_jobs=-1)\n",
    "print('CV accuracy scores: %s' % scores)\n",
    "print('CV accuracy: %.3f +/- %.3f' % (np.mean(scores), np.std(scores)))"
   ]
  },
  {
   "cell_type": "code",
   "execution_count": 23,
   "id": "fb3ffb6c-f495-4aad-8d24-51d61392293c",
   "metadata": {},
   "outputs": [],
   "source": [
    "## separate dataframe into features and target \n",
    "X = df.loc[:, df.columns != 'contraceptive_method_used']\n",
    "y = df['contraceptive_method_used'].to_numpy() "
   ]
  },
  {
   "cell_type": "code",
   "execution_count": 24,
   "id": "ac5424bd-39eb-4d3e-9afc-a0c6be4573ea",
   "metadata": {},
   "outputs": [],
   "source": [
    "from sklearn.model_selection import train_test_split\n",
    "\n",
    "X_train, X_test, y_train, y_test = train_test_split(X, y, test_size=.2, stratify=y)"
   ]
  },
  {
   "cell_type": "code",
   "execution_count": 25,
   "id": "055b2842-c184-4168-b406-ec7ae2d492e0",
   "metadata": {},
   "outputs": [],
   "source": [
    "from sklearn.preprocessing import StandardScaler\n",
    "\n",
    "## scale numeric continous variables \n",
    "ss = StandardScaler()\n",
    "X_train[numeric_features] = ss.fit_transform(X_train[numeric_features].values)\n",
    "X_test[numeric_features] = ss.transform(X_test[numeric_features].values)"
   ]
  },
  {
   "cell_type": "code",
   "execution_count": 26,
   "id": "e0e4a533-55fb-4bef-9e7f-76dc064d8de5",
   "metadata": {},
   "outputs": [
    {
     "data": {
      "text/html": [
       "<div>\n",
       "<style scoped>\n",
       "    .dataframe tbody tr th:only-of-type {\n",
       "        vertical-align: middle;\n",
       "    }\n",
       "\n",
       "    .dataframe tbody tr th {\n",
       "        vertical-align: top;\n",
       "    }\n",
       "\n",
       "    .dataframe thead th {\n",
       "        text-align: right;\n",
       "    }\n",
       "</style>\n",
       "<table border=\"1\" class=\"dataframe\">\n",
       "  <thead>\n",
       "    <tr style=\"text-align: right;\">\n",
       "      <th></th>\n",
       "      <th>wife_age</th>\n",
       "      <th>wife_education_level</th>\n",
       "      <th>husband_education_level</th>\n",
       "      <th>num_children</th>\n",
       "      <th>isMuslim</th>\n",
       "      <th>isNotWorking</th>\n",
       "      <th>husband_occupation</th>\n",
       "      <th>standard_of_living</th>\n",
       "      <th>isNotExposedToMedia</th>\n",
       "    </tr>\n",
       "  </thead>\n",
       "  <tbody>\n",
       "    <tr>\n",
       "      <th>703</th>\n",
       "      <td>-0.421164</td>\n",
       "      <td>2</td>\n",
       "      <td>3</td>\n",
       "      <td>0.319885</td>\n",
       "      <td>1</td>\n",
       "      <td>1</td>\n",
       "      <td>2</td>\n",
       "      <td>1</td>\n",
       "      <td>0</td>\n",
       "    </tr>\n",
       "    <tr>\n",
       "      <th>58</th>\n",
       "      <td>-1.394209</td>\n",
       "      <td>2</td>\n",
       "      <td>3</td>\n",
       "      <td>-1.389071</td>\n",
       "      <td>1</td>\n",
       "      <td>1</td>\n",
       "      <td>3</td>\n",
       "      <td>4</td>\n",
       "      <td>0</td>\n",
       "    </tr>\n",
       "    <tr>\n",
       "      <th>843</th>\n",
       "      <td>-0.542795</td>\n",
       "      <td>3</td>\n",
       "      <td>4</td>\n",
       "      <td>-0.534593</td>\n",
       "      <td>1</td>\n",
       "      <td>1</td>\n",
       "      <td>3</td>\n",
       "      <td>4</td>\n",
       "      <td>0</td>\n",
       "    </tr>\n",
       "    <tr>\n",
       "      <th>814</th>\n",
       "      <td>-1.880731</td>\n",
       "      <td>3</td>\n",
       "      <td>4</td>\n",
       "      <td>-0.961832</td>\n",
       "      <td>1</td>\n",
       "      <td>1</td>\n",
       "      <td>2</td>\n",
       "      <td>1</td>\n",
       "      <td>0</td>\n",
       "    </tr>\n",
       "    <tr>\n",
       "      <th>259</th>\n",
       "      <td>0.795142</td>\n",
       "      <td>3</td>\n",
       "      <td>3</td>\n",
       "      <td>-0.961832</td>\n",
       "      <td>0</td>\n",
       "      <td>1</td>\n",
       "      <td>3</td>\n",
       "      <td>4</td>\n",
       "      <td>0</td>\n",
       "    </tr>\n",
       "  </tbody>\n",
       "</table>\n",
       "</div>"
      ],
      "text/plain": [
       "     wife_age wife_education_level husband_education_level  num_children  \\\n",
       "703 -0.421164                    2                       3      0.319885   \n",
       "58  -1.394209                    2                       3     -1.389071   \n",
       "843 -0.542795                    3                       4     -0.534593   \n",
       "814 -1.880731                    3                       4     -0.961832   \n",
       "259  0.795142                    3                       3     -0.961832   \n",
       "\n",
       "    isMuslim isNotWorking husband_occupation standard_of_living  \\\n",
       "703        1            1                  2                  1   \n",
       "58         1            1                  3                  4   \n",
       "843        1            1                  3                  4   \n",
       "814        1            1                  2                  1   \n",
       "259        0            1                  3                  4   \n",
       "\n",
       "    isNotExposedToMedia  \n",
       "703                   0  \n",
       "58                    0  \n",
       "843                   0  \n",
       "814                   0  \n",
       "259                   0  "
      ]
     },
     "execution_count": 26,
     "metadata": {},
     "output_type": "execute_result"
    }
   ],
   "source": [
    "X_train.head()"
   ]
  },
  {
   "cell_type": "code",
   "execution_count": 27,
   "id": "58eec5a4-77f2-47f0-9631-9ba40293a37f",
   "metadata": {},
   "outputs": [
    {
     "data": {
      "text/html": [
       "<div>\n",
       "<style scoped>\n",
       "    .dataframe tbody tr th:only-of-type {\n",
       "        vertical-align: middle;\n",
       "    }\n",
       "\n",
       "    .dataframe tbody tr th {\n",
       "        vertical-align: top;\n",
       "    }\n",
       "\n",
       "    .dataframe thead th {\n",
       "        text-align: right;\n",
       "    }\n",
       "</style>\n",
       "<table border=\"1\" class=\"dataframe\">\n",
       "  <thead>\n",
       "    <tr style=\"text-align: right;\">\n",
       "      <th></th>\n",
       "      <th>wife_age</th>\n",
       "      <th>wife_education_level</th>\n",
       "      <th>husband_education_level</th>\n",
       "      <th>num_children</th>\n",
       "      <th>isMuslim</th>\n",
       "      <th>isNotWorking</th>\n",
       "      <th>husband_occupation</th>\n",
       "      <th>standard_of_living</th>\n",
       "      <th>isNotExposedToMedia</th>\n",
       "    </tr>\n",
       "  </thead>\n",
       "  <tbody>\n",
       "    <tr>\n",
       "      <th>807</th>\n",
       "      <td>-0.907686</td>\n",
       "      <td>2</td>\n",
       "      <td>3</td>\n",
       "      <td>0.319885</td>\n",
       "      <td>1</td>\n",
       "      <td>1</td>\n",
       "      <td>3</td>\n",
       "      <td>3</td>\n",
       "      <td>0</td>\n",
       "    </tr>\n",
       "    <tr>\n",
       "      <th>222</th>\n",
       "      <td>0.551881</td>\n",
       "      <td>1</td>\n",
       "      <td>2</td>\n",
       "      <td>-0.534593</td>\n",
       "      <td>1</td>\n",
       "      <td>1</td>\n",
       "      <td>2</td>\n",
       "      <td>2</td>\n",
       "      <td>1</td>\n",
       "    </tr>\n",
       "    <tr>\n",
       "      <th>379</th>\n",
       "      <td>1.646556</td>\n",
       "      <td>1</td>\n",
       "      <td>2</td>\n",
       "      <td>2.028841</td>\n",
       "      <td>1</td>\n",
       "      <td>1</td>\n",
       "      <td>3</td>\n",
       "      <td>3</td>\n",
       "      <td>1</td>\n",
       "    </tr>\n",
       "    <tr>\n",
       "      <th>646</th>\n",
       "      <td>-1.029317</td>\n",
       "      <td>4</td>\n",
       "      <td>4</td>\n",
       "      <td>-0.961832</td>\n",
       "      <td>1</td>\n",
       "      <td>0</td>\n",
       "      <td>1</td>\n",
       "      <td>4</td>\n",
       "      <td>0</td>\n",
       "    </tr>\n",
       "    <tr>\n",
       "      <th>211</th>\n",
       "      <td>1.524926</td>\n",
       "      <td>1</td>\n",
       "      <td>2</td>\n",
       "      <td>-0.961832</td>\n",
       "      <td>1</td>\n",
       "      <td>0</td>\n",
       "      <td>3</td>\n",
       "      <td>3</td>\n",
       "      <td>0</td>\n",
       "    </tr>\n",
       "  </tbody>\n",
       "</table>\n",
       "</div>"
      ],
      "text/plain": [
       "     wife_age wife_education_level husband_education_level  num_children  \\\n",
       "807 -0.907686                    2                       3      0.319885   \n",
       "222  0.551881                    1                       2     -0.534593   \n",
       "379  1.646556                    1                       2      2.028841   \n",
       "646 -1.029317                    4                       4     -0.961832   \n",
       "211  1.524926                    1                       2     -0.961832   \n",
       "\n",
       "    isMuslim isNotWorking husband_occupation standard_of_living  \\\n",
       "807        1            1                  3                  3   \n",
       "222        1            1                  2                  2   \n",
       "379        1            1                  3                  3   \n",
       "646        1            0                  1                  4   \n",
       "211        1            0                  3                  3   \n",
       "\n",
       "    isNotExposedToMedia  \n",
       "807                   0  \n",
       "222                   1  \n",
       "379                   1  \n",
       "646                   0  \n",
       "211                   0  "
      ]
     },
     "execution_count": 27,
     "metadata": {},
     "output_type": "execute_result"
    }
   ],
   "source": [
    "X_test.head()"
   ]
  },
  {
   "cell_type": "code",
   "execution_count": 28,
   "id": "c9784dbe-0382-404f-b6b9-74de6b2f73d0",
   "metadata": {},
   "outputs": [],
   "source": [
    "# combine the features into a single large matrix\n",
    "X_train_numpy = X_train.to_numpy()\n",
    "X_test_numpy = X_test.to_numpy()"
   ]
  },
  {
   "cell_type": "code",
   "execution_count": 29,
   "id": "75b42771-c97e-426e-98ae-ed75cf95b3ad",
   "metadata": {},
   "outputs": [
    {
     "name": "stdout",
     "output_type": "stream",
     "text": [
      "Numeric Headers:\n",
      "['wife_age', 'num_children']\n",
      "\n",
      "Categorical Headers, Encoded as Integer:\n",
      "[   'isMuslim',\n",
      "    'isNotWorking',\n",
      "    'isNotExposedToMedia',\n",
      "    'husband_occupation',\n",
      "    'wife_education_level',\n",
      "    'husband_education_level',\n",
      "    'standard_of_living']\n"
     ]
    }
   ],
   "source": [
    "import pprint\n",
    "pp = pprint.PrettyPrinter(indent=4)\n",
    "# we have the following lists now of data that we can use with our dataframes:\n",
    "print(\"Numeric Headers:\")\n",
    "pp.pprint(numeric_features) # normalized numeric data\n",
    "print(\"\\nCategorical Headers, Encoded as Integer:\")\n",
    "pp.pprint(categorical_features) # categorical data encoded as integers"
   ]
  },
  {
   "cell_type": "markdown",
   "id": "9b55ef31-cafa-4b14-88d3-c65e413bf0e5",
   "metadata": {},
   "source": [
    "## 2. Modeling"
   ]
  },
  {
   "cell_type": "markdown",
   "id": "0fe846ef-6a79-4a6a-b9cd-6a08d4f4db3c",
   "metadata": {},
   "source": [
    "[2 points] Create at least three combined wide and deep networks to classify your data using Keras. Visualize the performance of the network on the training data and validation data in the same plot versus the training iterations. Note: use the \"history\" return parameter that is part of Keras \"fit\" function to easily access this data."
   ]
  },
  {
   "cell_type": "code",
   "execution_count": 30,
   "id": "1cf61e0c-2a59-42a1-963a-1fca4dad458b",
   "metadata": {},
   "outputs": [],
   "source": [
    "from sklearn import metrics as mt\n",
    "import tensorflow as tf\n",
    "from tensorflow import keras\n",
    "from tensorflow.keras.layers import Dense, Activation, Input\n",
    "from tensorflow.keras.models import Model\n",
    "from tensorflow.keras.layers import Embedding\n",
    "from tensorflow.keras.layers import concatenate"
   ]
  },
  {
   "cell_type": "code",
   "execution_count": 31,
   "id": "28311c3f-9c04-46a2-be19-83c255181ac0",
   "metadata": {},
   "outputs": [
    {
     "data": {
      "text/plain": [
       "['wife_education_level_husband_education_level',\n",
       " 'wife_education_level_isNotWorking',\n",
       " 'husband_education_level_husband_occupation_standard_of_living',\n",
       " 'isMuslim_isNotExposedToMedia']"
      ]
     },
     "execution_count": 31,
     "metadata": {},
     "output_type": "execute_result"
    }
   ],
   "source": [
    "from sklearn.preprocessing import LabelEncoder\n",
    "\n",
    "cross_columns = [\n",
    "                    ['wife_education_level', 'husband_education_level'],\n",
    "                    ['wife_education_level', 'isNotWorking'],\n",
    "                    ['husband_education_level', 'husband_occupation', 'standard_of_living'],\n",
    "                    ['isMuslim', 'isNotExposedToMedia']\n",
    "                ]\n",
    "\n",
    "# cross each set of columns in the list above\n",
    "cross_col_df_names = []\n",
    "for cols_list in cross_columns:\n",
    "    # encode as ints for the embedding\n",
    "    enc = LabelEncoder()\n",
    "    \n",
    "    # 1. create crossed labels by join operation\n",
    "    X_crossed_train = X_train_strings[cols_list].apply(lambda x: '_'.join(x), axis=1)\n",
    "    X_crossed_test = X_test_strings[cols_list].apply(lambda x: '_'.join(x), axis=1)\n",
    "    \n",
    "    # get a nice name for this new crossed column\n",
    "    cross_col_name = '_'.join(cols_list)\n",
    "    \n",
    "    # 2. encode as integers, stacking all possibilities\n",
    "    enc.fit(np.hstack((X_crossed_train.to_numpy(),  X_crossed_test.to_numpy())))\n",
    "    \n",
    "    # 3. Save into dataframe with new name\n",
    "    X_train_strings[cross_col_name] = enc.transform(X_crossed_train)\n",
    "    X_test_strings[cross_col_name] = enc.transform(X_crossed_test)\n",
    "    \n",
    "    # Save the encoder used here for later:\n",
    "    encoders[cross_col_name] = enc\n",
    "    \n",
    "    # keep track of the new names of the crossed columns\n",
    "    cross_col_df_names.append(cross_col_name) \n",
    "    \n",
    "cross_col_df_names"
   ]
  },
  {
   "cell_type": "code",
   "execution_count": 32,
   "id": "828bbd44-0009-49d7-9b65-7db01eef19df",
   "metadata": {},
   "outputs": [],
   "source": [
    "categorical_headers_ints = [x+'_int' for x in categorical_features]"
   ]
  },
  {
   "cell_type": "code",
   "execution_count": 57,
   "id": "f3d8765b-b496-4d06-9ad5-4a884d48c7cc",
   "metadata": {},
   "outputs": [],
   "source": [
    "# get crossed columns\n",
    "X_train_crossed = X_train_strings[cross_col_df_names].to_numpy()\n",
    "X_test_crossed = X_test_strings[cross_col_df_names].to_numpy()\n",
    "\n",
    "# save categorical features\n",
    "X_train_cat = X_train_strings[categorical_headers_ints].to_numpy() \n",
    "X_test_cat = X_test_strings[categorical_headers_ints].to_numpy() \n",
    "\n",
    "# and save off the numeric features\n",
    "X_train_num =  X_train_strings[numeric_features].to_numpy()\n",
    "X_test_num = X_test_strings[numeric_features].to_numpy()\n",
    "\n",
    "# we need to create separate lists for each branch\n",
    "crossed_outputs = []\n",
    "\n",
    "# CROSSED DATA INPUT\n",
    "input_crossed = Input(shape=(X_train_crossed.shape[1],), dtype='int64', name='wide_inputs')\n",
    "for idx,col in enumerate(cross_col_df_names):\n",
    "    \n",
    "    # track what the maximum integer value will be for this variable\n",
    "    # which is the same as the number of categories\n",
    "    N = max(X_train_strings[col].max(),X_test_strings[col].max())+1\n",
    "    N = len(encoders[col].classes_)\n",
    "    N_reduced = int(np.sqrt(N))\n",
    "    \n",
    "    \n",
    "    # this line of code does this: input_branch[:,idx]\n",
    "    x = tf.gather(input_crossed, idx, axis=1)\n",
    "    \n",
    "    # now use an embedding to deal with integers as if they were one hot encoded\n",
    "    x = Embedding(input_dim=N, \n",
    "                  output_dim=N_reduced, \n",
    "                  input_length=1, name=col+'_embed')(x)\n",
    "    \n",
    "    # save these outputs to concatenate later\n",
    "    crossed_outputs.append(x)\n",
    "    \n",
    "\n",
    "# now concatenate the outputs and add a fully connected layer\n",
    "wide_branch = concatenate(crossed_outputs, name='wide_concat')\n",
    "\n",
    "# reset this input branch\n",
    "all_deep_branch_outputs = []\n",
    "\n",
    "# CATEGORICAL DATA INPUT\n",
    "input_cat = Input(shape=(X_train_cat.shape[1],), dtype='int64', name='categorical_input')\n",
    "for idx,col in enumerate(categorical_headers_ints):\n",
    "    \n",
    "    # track what the maximum integer value will be for this variable\n",
    "    # which is the same as the number of categories\n",
    "    N = max(X_train_strings[col].max(),X_test_strings[col].max())+1\n",
    "    N_reduced = int(np.sqrt(N))\n",
    "    \n",
    "    # this line of code does this: input_branch[:,idx]\n",
    "    x = tf.gather(input_cat, idx, axis=1)\n",
    "    \n",
    "    # now use an embedding to deal with integers as if they were one hot encoded\n",
    "    x = Embedding(input_dim=N, \n",
    "                  output_dim=N_reduced, \n",
    "                  input_length=1, name=col+'_embed')(x)\n",
    "    \n",
    "    # save these outputs to concatenate later\n",
    "    all_deep_branch_outputs.append(x)\n",
    "    \n",
    "# NUMERIC DATA INPUT\n",
    "# create dense input branch for numeric\n",
    "input_num = Input(shape=(X_train_num.shape[1],), name='numeric')\n",
    "x_dense = Dense(units=20, activation='relu',name='num_1')(input_num)\n",
    "    \n",
    "all_deep_branch_outputs.append(x_dense)\n",
    "\n",
    "# merge the deep branches together\n",
    "deep_branch = concatenate(all_deep_branch_outputs,name='concat_embeds')\n",
    "deep_branch = Dense(units=40,activation='relu', name='deep1')(deep_branch)\n",
    "deep_branch = Dense(units=20,activation='relu', name='deep2')(deep_branch)\n",
    "deep_branch = Dense(units=10,activation='relu', name='deep3')(deep_branch)\n",
    "    \n",
    "# merge the deep and wide branch\n",
    "final_branch = concatenate([wide_branch, deep_branch],\n",
    "                           name='concat_deep_wide')\n",
    "final_branch = Dense(units=3,activation='sigmoid',\n",
    "                     name='combined')(final_branch)\n",
    "\n",
    "model = Model(inputs=[input_crossed,input_cat,input_num], \n",
    "              outputs=final_branch)"
   ]
  },
  {
   "cell_type": "code",
   "execution_count": 58,
   "id": "0ae676ba-f88e-40ed-be2e-b1abe179a04a",
   "metadata": {},
   "outputs": [
    {
     "name": "stdout",
     "output_type": "stream",
     "text": [
      "You must install pydot (`pip install pydot`) and install graphviz (see instructions at https://graphviz.gitlab.io/download/) for plot_model to work.\n"
     ]
    }
   ],
   "source": [
    "from tensorflow.keras.utils import plot_model\n",
    "plot_model(\n",
    "    model, to_file='model.png', show_shapes=True, show_layer_names=True,\n",
    "    rankdir='LR', expand_nested=False, dpi=96\n",
    ")"
   ]
  },
  {
   "cell_type": "code",
   "execution_count": 59,
   "id": "392504bc-ea71-4d9a-8747-0478a0e4e1c7",
   "metadata": {},
   "outputs": [
    {
     "data": {
      "text/plain": [
       "array([3, 1, 3, ..., 1, 2, 3], dtype=int64)"
      ]
     },
     "execution_count": 59,
     "metadata": {},
     "output_type": "execute_result"
    }
   ],
   "source": [
    "y_train"
   ]
  },
  {
   "cell_type": "code",
   "execution_count": 60,
   "id": "51729009-7a72-4462-a456-cc7bb2374d89",
   "metadata": {},
   "outputs": [
    {
     "name": "stdout",
     "output_type": "stream",
     "text": [
      "Epoch 1/10\n",
      "40/40 [==============================] - 1s 5ms/step - loss: 3.5773 - accuracy: 0.4194 - val_loss: 2.8536 - val_accuracy: 0.4271\n",
      "Epoch 2/10\n",
      "40/40 [==============================] - 0s 2ms/step - loss: 2.6953 - accuracy: 0.4270 - val_loss: 2.5629 - val_accuracy: 0.4271\n",
      "Epoch 3/10\n",
      "40/40 [==============================] - 0s 2ms/step - loss: 2.5098 - accuracy: 0.4270 - val_loss: 2.4401 - val_accuracy: 0.4271\n",
      "Epoch 4/10\n",
      "40/40 [==============================] - 0s 1ms/step - loss: 2.3969 - accuracy: 0.4270 - val_loss: 2.3358 - val_accuracy: 0.4271\n",
      "Epoch 5/10\n",
      "40/40 [==============================] - 0s 2ms/step - loss: 2.2928 - accuracy: 0.4270 - val_loss: 2.2342 - val_accuracy: 0.4271\n",
      "Epoch 6/10\n",
      "40/40 [==============================] - 0s 1ms/step - loss: 2.1929 - accuracy: 0.4278 - val_loss: 2.1388 - val_accuracy: 0.3898\n",
      "Epoch 7/10\n",
      "40/40 [==============================] - 0s 2ms/step - loss: 2.1024 - accuracy: 0.4202 - val_loss: 2.0559 - val_accuracy: 0.3932\n",
      "Epoch 8/10\n",
      "40/40 [==============================] - 0s 2ms/step - loss: 2.0269 - accuracy: 0.4151 - val_loss: 1.9903 - val_accuracy: 0.3763\n",
      "Epoch 9/10\n",
      "40/40 [==============================] - 0s 2ms/step - loss: 1.9681 - accuracy: 0.3922 - val_loss: 1.9405 - val_accuracy: 0.3593\n",
      "Epoch 10/10\n",
      "40/40 [==============================] - 0s 2ms/step - loss: 1.9240 - accuracy: 0.3896 - val_loss: 1.9020 - val_accuracy: 0.3559\n",
      "CPU times: total: 2.56 s\n",
      "Wall time: 1.62 s\n"
     ]
    }
   ],
   "source": [
    "%%time\n",
    "\n",
    "model.compile(optimizer='adagrad',\n",
    "              loss='mean_squared_error',\n",
    "              metrics=['accuracy'])\n",
    "\n",
    "# lets also add the history variable to see how we are doing\n",
    "# and lets add a validation set to keep track of our progress\n",
    "history = model.fit([X_train_crossed,X_train_cat,X_train_num],\n",
    "                    y_train, \n",
    "                    epochs=10, \n",
    "                    batch_size=30, \n",
    "                    verbose=1, \n",
    "                    validation_data = ([X_test_crossed,X_test_cat,X_test_num],y_test))"
   ]
  },
  {
   "cell_type": "code",
   "execution_count": 63,
   "id": "fb2857a5-a9a3-450d-8764-f29ce83e56da",
   "metadata": {},
   "outputs": [
    {
     "name": "stdout",
     "output_type": "stream",
     "text": [
      "10/10 [==============================] - 0s 889us/step\n",
      "[3 1 1 3 1 3 3 3 2 3 3 3 2 1 2 3 1 3 1 3 1 3 1 1 2 2 3 1 1 1 1 1 1 1 3 3 3\n",
      " 1 2 3 3 3 1 2 2 2 3 3 3 1 3 1 1 1 3 1 1 1 1 2 2 1 1 1 2 3 2 1 2 3 1 1 1 1\n",
      " 3 2 3 3 3 1 3 1 1 2 1 2 1 2 2 1 1 3 3 2 1 1 3 3 3 2 1 1 2 2 2 1 1 2 3 1 2\n",
      " 3 1 1 3 3 3 3 1 3 1 1 1 1 3 2 1 1 2 3 3 1 1 1 2 1 3 3 2 2 1 2 1 3 3 3 1 3\n",
      " 3 1 2 3 1 1 2 1 2 1 1 1 1 2 1 3 3 1 3 3 2 1 1 3 2 1 3 1 2 1 3 1 3 3 1 1 2\n",
      " 3 3 3 3 3 2 1 1 2 1 1 1 2 1 3 1 3 2 3 2 1 1 3 1 2 2 1 3 2 3 2 1 1 1 2 2 2\n",
      " 1 2 2 1 1 1 3 2 1 1 1 1 3 2 3 1 1 3 1 1 1 3 1 3 2 1 1 2 1 2 1 1 1 2 3 3 1\n",
      " 3 3 3 1 2 2 3 1 3 3 3 1 3 3 3 2 3 1 2 3 1 1 3 3 1 1 3 3 2 2 2 3 3 3 3 1]\n",
      "[[0.7396509  0.99429053 0.9889995 ]\n",
      " [0.70917165 0.97735566 0.9831554 ]\n",
      " [0.63417906 0.87527037 0.86037767]\n",
      " [0.7446105  0.98924506 0.98650825]\n",
      " [0.7158753  0.981141   0.973178  ]\n",
      " [0.6637655  0.9269282  0.92619735]\n",
      " [0.6429889  0.89387405 0.89098567]\n",
      " [0.71148664 0.97795975 0.9711184 ]\n",
      " [0.7017081  0.9817868  0.970542  ]\n",
      " [0.75151277 0.9891614  0.98789835]\n",
      " [0.72595763 0.982076   0.9843081 ]\n",
      " [0.7382068  0.9872269  0.983347  ]\n",
      " [0.66507083 0.9213748  0.9155832 ]\n",
      " [0.64841384 0.9107316  0.9048135 ]\n",
      " [0.644521   0.923549   0.92569417]\n",
      " [0.71577954 0.97963023 0.9732689 ]\n",
      " [0.70197314 0.9773855  0.96676296]\n",
      " [0.7122385  0.9751174  0.96979314]\n",
      " [0.5980061  0.8385534  0.85112786]\n",
      " [0.7546208  0.9862775  0.9869019 ]\n",
      " [0.7649539  0.99508893 0.99218994]\n",
      " [0.69436693 0.97739404 0.9662201 ]\n",
      " [0.6971618  0.9645939  0.9616319 ]\n",
      " [0.613423   0.851609   0.8689252 ]\n",
      " [0.6591785  0.9200636  0.91939104]\n",
      " [0.7597024  0.99359    0.98949933]\n",
      " [0.67458117 0.93763524 0.93495935]\n",
      " [0.6894633  0.9615561  0.95138705]\n",
      " [0.6967502  0.9772084  0.9651798 ]\n",
      " [0.6022115  0.8582685  0.8718713 ]\n",
      " [0.6618331  0.9218246  0.913456  ]\n",
      " [0.74576586 0.9893646  0.98845214]\n",
      " [0.6980471  0.9854772  0.9757656 ]\n",
      " [0.64270294 0.9009407  0.9011975 ]\n",
      " [0.6724472  0.9346495  0.9318947 ]\n",
      " [0.6596496  0.9514975  0.93307406]\n",
      " [0.6310677  0.8583395  0.86544156]\n",
      " [0.70001566 0.98506916 0.97491044]\n",
      " [0.7191644  0.97416407 0.97249126]\n",
      " [0.7279184  0.98200434 0.97603923]\n",
      " [0.7291805  0.9837638  0.9795047 ]\n",
      " [0.7532735  0.9932048  0.9895245 ]\n",
      " [0.73216367 0.98664135 0.9801597 ]\n",
      " [0.67163813 0.9445077  0.9331966 ]\n",
      " [0.75255865 0.99572253 0.992845  ]\n",
      " [0.71055126 0.9653746  0.9651034 ]\n",
      " [0.6369113  0.8862607  0.8861056 ]\n",
      " [0.6342549  0.8789322  0.88010454]\n",
      " [0.6752628  0.95333934 0.9481892 ]\n",
      " [0.6556084  0.96343046 0.94264734]\n",
      " [0.63707715 0.9160749  0.89843565]\n",
      " [0.66840917 0.93872774 0.9295124 ]\n",
      " [0.64320064 0.9005635  0.8956896 ]\n",
      " [0.7542951  0.99231255 0.98969114]\n",
      " [0.6244397  0.8771139  0.87899876]\n",
      " [0.65261024 0.9165165  0.9093663 ]\n",
      " [0.68128574 0.9717343  0.9569202 ]\n",
      " [0.6697535  0.935821   0.93470246]\n",
      " [0.66100895 0.9222044  0.918016  ]\n",
      " [0.70686233 0.9654916  0.9599646 ]\n",
      " [0.73301953 0.9812784  0.9769856 ]\n",
      " [0.67084014 0.93632525 0.9332104 ]\n",
      " [0.74553794 0.9844905  0.98247623]\n",
      " [0.741432   0.9890225  0.9847236 ]\n",
      " [0.68910563 0.9481879  0.9497381 ]\n",
      " [0.6553057  0.9221895  0.9280836 ]\n",
      " [0.73566616 0.9881672  0.98227537]\n",
      " [0.6662266  0.9321621  0.9365501 ]\n",
      " [0.673722   0.9494855  0.9584471 ]\n",
      " [0.6380487  0.88699013 0.8885851 ]\n",
      " [0.66263205 0.94122195 0.9296484 ]\n",
      " [0.6574366  0.9131775  0.9148087 ]\n",
      " [0.683298   0.9484277  0.93932563]\n",
      " [0.6893863  0.96765584 0.95866394]\n",
      " [0.71604025 0.9813314  0.9739334 ]\n",
      " [0.73663974 0.9847425  0.97980815]\n",
      " [0.6475501  0.9098667  0.9018919 ]\n",
      " [0.6664671  0.94222265 0.95304793]\n",
      " [0.7334738  0.98692405 0.9826897 ]\n",
      " [0.65508914 0.90832305 0.90103686]\n",
      " [0.7294902  0.9843412  0.98525697]\n",
      " [0.7077136  0.97116756 0.972351  ]\n",
      " [0.6424091  0.8999112  0.89824563]\n",
      " [0.7040351  0.96419525 0.96617454]\n",
      " [0.69431615 0.9589314  0.9557145 ]\n",
      " [0.7108586  0.98195183 0.97650373]\n",
      " [0.6972754  0.96432745 0.95642596]\n",
      " [0.64376044 0.9098454  0.91586757]\n",
      " [0.6098446  0.8587346  0.8677975 ]\n",
      " [0.6671824  0.95040077 0.9360422 ]\n",
      " [0.691194   0.9593021  0.95100164]\n",
      " [0.6312607  0.8723508  0.87997067]\n",
      " [0.7420437  0.9904952  0.9884039 ]\n",
      " [0.62880105 0.8586553  0.8539031 ]\n",
      " [0.64502054 0.90109795 0.9029949 ]\n",
      " [0.65007466 0.9048237  0.90493053]\n",
      " [0.67715144 0.95301735 0.94593215]\n",
      " [0.67899173 0.9420957  0.93999434]\n",
      " [0.6445716  0.8992273  0.88850975]\n",
      " [0.7272285  0.9789438  0.97576195]\n",
      " [0.71317154 0.967625   0.9664582 ]\n",
      " [0.6991269  0.97928095 0.9711961 ]\n",
      " [0.7204092  0.97896075 0.9804383 ]\n",
      " [0.6712619  0.94214565 0.93936884]\n",
      " [0.7283772  0.9821671  0.9769655 ]\n",
      " [0.64742595 0.8998837  0.8997279 ]\n",
      " [0.6849253  0.95074546 0.9448673 ]\n",
      " [0.73333544 0.98503834 0.9800455 ]\n",
      " [0.7038286  0.9731171  0.968786  ]\n",
      " [0.63052154 0.865579   0.8698443 ]\n",
      " [0.65681034 0.93112254 0.91980135]\n",
      " [0.7012164  0.97548854 0.9667475 ]\n",
      " [0.7479223  0.98607796 0.98634344]\n",
      " [0.7014649  0.9668089  0.9583481 ]\n",
      " [0.6708373  0.9344244  0.9343907 ]\n",
      " [0.65175366 0.9241163  0.91191494]\n",
      " [0.71967626 0.9776234  0.9753439 ]\n",
      " [0.6600978  0.9150761  0.9085699 ]\n",
      " [0.6618069  0.93631387 0.92602324]\n",
      " [0.6556929  0.92286634 0.91262424]\n",
      " [0.73813325 0.9910965  0.9865408 ]\n",
      " [0.7082081  0.97349733 0.9695055 ]\n",
      " [0.64269906 0.88573074 0.88550854]\n",
      " [0.69855875 0.9702104  0.9764784 ]\n",
      " [0.6634736  0.9242354  0.92008126]\n",
      " [0.67498726 0.9394376  0.93993837]\n",
      " [0.6676399  0.95049906 0.9382475 ]\n",
      " [0.74702775 0.9948595  0.99085647]\n",
      " [0.6839852  0.9529808  0.9441947 ]\n",
      " [0.6422327  0.91206026 0.8974437 ]\n",
      " [0.75611305 0.9871654  0.9877141 ]\n",
      " [0.6941565  0.9588049  0.95963866]\n",
      " [0.65206736 0.908072   0.9012146 ]\n",
      " [0.6579295  0.9319105  0.91280544]\n",
      " [0.6973891  0.96830934 0.96617794]\n",
      " [0.69911766 0.96376216 0.96510094]\n",
      " [0.61913913 0.85120463 0.8513635 ]\n",
      " [0.61809224 0.8324868  0.83194494]\n",
      " [0.7418465  0.98624414 0.98372287]\n",
      " [0.664749   0.9533617  0.93893564]\n",
      " [0.6840879  0.95572704 0.9593926 ]\n",
      " [0.65957737 0.9143543  0.90516007]\n",
      " [0.6961802  0.96119463 0.9626062 ]\n",
      " [0.7501333  0.9940097  0.9909359 ]\n",
      " [0.7581927  0.99409115 0.99054444]\n",
      " [0.688202   0.960521   0.9478245 ]\n",
      " [0.7296037  0.98435616 0.98572963]\n",
      " [0.7160393  0.9707432  0.9671297 ]\n",
      " [0.72682095 0.976446   0.97567344]\n",
      " [0.74821436 0.986448   0.9836375 ]\n",
      " [0.707828   0.97884804 0.9715035 ]\n",
      " [0.7440696  0.99018645 0.9862134 ]\n",
      " [0.68527853 0.96207184 0.9560709 ]\n",
      " [0.6458442  0.8984292  0.8942502 ]\n",
      " [0.6864247  0.96611845 0.9563144 ]\n",
      " [0.7006967  0.97057164 0.96015483]\n",
      " [0.6913776  0.96479595 0.9573918 ]\n",
      " [0.7329599  0.992933   0.987406  ]\n",
      " [0.73478836 0.9871164  0.98477435]\n",
      " [0.65002865 0.92489123 0.93641096]\n",
      " [0.65097296 0.9186213  0.90271974]\n",
      " [0.6975598  0.9594408  0.9526705 ]\n",
      " [0.65766    0.9238418  0.92315423]\n",
      " [0.6829582  0.94135267 0.9364382 ]\n",
      " [0.6821842  0.9488548  0.95030224]\n",
      " [0.6830697  0.9549825  0.95281905]\n",
      " [0.6408772  0.90169936 0.8925614 ]\n",
      " [0.76082736 0.9891538  0.9884969 ]\n",
      " [0.6968376  0.9783451  0.968533  ]\n",
      " [0.63471514 0.94293165 0.9145237 ]\n",
      " [0.73247313 0.9837977  0.9808955 ]\n",
      " [0.7091877  0.97786    0.9678081 ]\n",
      " [0.7390088  0.99141073 0.9865492 ]\n",
      " [0.70218706 0.9618684  0.961072  ]\n",
      " [0.6621053  0.93582493 0.93669564]\n",
      " [0.7121022  0.97104347 0.9662177 ]\n",
      " [0.7125772  0.98783255 0.97867495]\n",
      " [0.6542596  0.91462564 0.907005  ]\n",
      " [0.6678003  0.93592423 0.9358018 ]\n",
      " [0.6461165  0.90231365 0.8957836 ]\n",
      " [0.75238    0.9855542  0.98417455]\n",
      " [0.65472186 0.9123502  0.91167974]\n",
      " [0.7120009  0.97691876 0.9791487 ]\n",
      " [0.6499673  0.9165953  0.9227426 ]\n",
      " [0.64876854 0.89923155 0.8964585 ]\n",
      " [0.68324465 0.9546701  0.9485897 ]\n",
      " [0.6982927  0.97016823 0.9630771 ]\n",
      " [0.74845517 0.99537146 0.99117166]\n",
      " [0.70032114 0.96929705 0.9668549 ]\n",
      " [0.71145034 0.968181   0.96319526]\n",
      " [0.7074296  0.98132294 0.9720661 ]\n",
      " [0.6676362  0.9508648  0.95289636]\n",
      " [0.7455775  0.98430306 0.98271686]\n",
      " [0.63440984 0.90121675 0.89845526]\n",
      " [0.691878   0.9615641  0.96152925]\n",
      " [0.64674544 0.90130585 0.9124411 ]\n",
      " [0.6150487  0.84372985 0.86043787]\n",
      " [0.667756   0.94279426 0.9367595 ]\n",
      " [0.64888895 0.92624146 0.920301  ]\n",
      " [0.6840677  0.9559553  0.94935244]\n",
      " [0.67365646 0.952235   0.9404181 ]\n",
      " [0.66507083 0.9213748  0.9155832 ]\n",
      " [0.6450434  0.898005   0.8972568 ]\n",
      " [0.64365226 0.8926457  0.892003  ]\n",
      " [0.66985816 0.93879026 0.9424109 ]\n",
      " [0.73479784 0.98397404 0.9810909 ]\n",
      " [0.7096444  0.97644174 0.97885746]\n",
      " [0.6908348  0.96515906 0.9524092 ]\n",
      " [0.6612224  0.9223682  0.91786784]\n",
      " [0.7227705  0.9921758  0.9861768 ]\n",
      " [0.7353362  0.984514   0.9819972 ]\n",
      " [0.744791   0.9831384  0.9812711 ]\n",
      " [0.6974206  0.9629255  0.95714563]\n",
      " [0.6265619  0.8613614  0.86149704]\n",
      " [0.7080751  0.9767234  0.97110194]\n",
      " [0.714616   0.97330725 0.9687833 ]\n",
      " [0.7349543  0.98012525 0.9777751 ]\n",
      " [0.6607846  0.9208387  0.913996  ]\n",
      " [0.6507878  0.9129299  0.91345936]\n",
      " [0.6493297  0.89985317 0.89750415]\n",
      " [0.7127265  0.9732146  0.9747061 ]\n",
      " [0.6129812  0.8253292  0.8175864 ]\n",
      " [0.6577002  0.91621995 0.9172608 ]\n",
      " [0.7603572  0.98865235 0.9876937 ]\n",
      " [0.66282177 0.9206498  0.91309977]\n",
      " [0.70032114 0.96929705 0.9668549 ]\n",
      " [0.7280557  0.979081   0.9766869 ]\n",
      " [0.63680094 0.8988202  0.88682544]\n",
      " [0.65824157 0.921768   0.9157074 ]\n",
      " [0.63541585 0.89696    0.90404165]\n",
      " [0.7139796  0.97245544 0.9713039 ]\n",
      " [0.6681792  0.9521133  0.9432493 ]\n",
      " [0.6818453  0.96114796 0.95002085]\n",
      " [0.6683606  0.9385901  0.9378557 ]\n",
      " [0.7217066  0.9751376  0.9711905 ]\n",
      " [0.61471987 0.84177893 0.84094936]\n",
      " [0.7489221  0.9845149  0.98344713]\n",
      " [0.61069125 0.84071773 0.8595146 ]\n",
      " [0.63056594 0.8791274  0.87761116]\n",
      " [0.6806178  0.9674062  0.9600547 ]\n",
      " [0.6264676  0.88910955 0.90759486]\n",
      " [0.6971158  0.9591839  0.95218384]\n",
      " [0.7023419  0.9592018  0.9569536 ]\n",
      " [0.6736367  0.9543843  0.9404065 ]\n",
      " [0.7312015  0.9801732  0.9796794 ]\n",
      " [0.65821403 0.93096805 0.92299294]\n",
      " [0.6680194  0.9451362  0.9377406 ]\n",
      " [0.65305275 0.9066666  0.9048871 ]\n",
      " [0.6785764  0.9368387  0.93112665]\n",
      " [0.62318844 0.8494171  0.8472237 ]\n",
      " [0.74742943 0.9909546  0.98799694]\n",
      " [0.7296861  0.97786295 0.9770019 ]\n",
      " [0.7394947  0.98516834 0.9861222 ]\n",
      " [0.7002191  0.9566693  0.9557059 ]\n",
      " [0.62648046 0.8729766  0.86879295]\n",
      " [0.6799335  0.95310616 0.9460068 ]\n",
      " [0.7419731  0.9960093  0.9907747 ]\n",
      " [0.6808606  0.9710799  0.95509106]\n",
      " [0.6957607  0.9680232  0.9615553 ]\n",
      " [0.7390559  0.9921826  0.98711556]\n",
      " [0.68439066 0.95866346 0.94977164]\n",
      " [0.6493297  0.89985317 0.89750415]\n",
      " [0.62979823 0.88682836 0.8992281 ]\n",
      " [0.7585172  0.990128   0.9884742 ]\n",
      " [0.6566748  0.92296326 0.91585994]\n",
      " [0.6917901  0.96244514 0.95452166]\n",
      " [0.7675799  0.991954   0.9906184 ]\n",
      " [0.6365875  0.8930788  0.8940429 ]\n",
      " [0.61752325 0.85455626 0.8726272 ]\n",
      " [0.66315424 0.9270524  0.9317315 ]\n",
      " [0.6611938  0.918449   0.91928023]\n",
      " [0.6670041  0.92101234 0.9209445 ]\n",
      " [0.6824223  0.9475405  0.942969  ]\n",
      " [0.72512436 0.98954916 0.9831028 ]\n",
      " [0.72893214 0.9833342  0.9841884 ]\n",
      " [0.66868323 0.93462783 0.92252415]\n",
      " [0.69233507 0.9604226  0.9567362 ]\n",
      " [0.7415006  0.9872045  0.98251486]\n",
      " [0.6929926  0.9708016  0.9646798 ]\n",
      " [0.6596901  0.9305475  0.9198298 ]\n",
      " [0.61060697 0.8295882  0.844696  ]\n",
      " [0.6426207  0.9122061  0.91712755]\n",
      " [0.7379651  0.98433167 0.98063385]\n",
      " [0.6351455  0.9094241  0.9242689 ]\n",
      " [0.65970874 0.91985935 0.91198397]\n",
      " [0.6160995  0.8479316  0.8508918 ]\n",
      " [0.6741621  0.9319746  0.9253807 ]\n",
      " [0.7135117  0.97110474 0.966602  ]\n",
      " [0.70223194 0.9625836  0.95646316]\n",
      " [0.7386445  0.9818944  0.98118144]\n",
      " [0.7371666  0.98782593 0.98350525]\n",
      " [0.7093451  0.9937111  0.9858284 ]\n",
      " [0.7091007  0.97391415 0.9664941 ]\n",
      " [0.70525235 0.9755437  0.96881264]\n",
      " [0.7099251  0.97951347 0.97066456]]\n"
     ]
    },
    {
     "ename": "ValueError",
     "evalue": "Classification metrics can't handle a mix of multiclass and continuous-multioutput targets",
     "output_type": "error",
     "traceback": [
      "\u001b[1;31m---------------------------------------------------------------------------\u001b[0m",
      "\u001b[1;31mValueError\u001b[0m                                Traceback (most recent call last)",
      "Cell \u001b[1;32mIn[63], line 4\u001b[0m\n\u001b[0;32m      2\u001b[0m \u001b[38;5;28mprint\u001b[39m(y_test)\n\u001b[0;32m      3\u001b[0m \u001b[38;5;28mprint\u001b[39m(yhat)\n\u001b[1;32m----> 4\u001b[0m \u001b[38;5;28mprint\u001b[39m(\u001b[43mmt\u001b[49m\u001b[38;5;241;43m.\u001b[39;49m\u001b[43mconfusion_matrix\u001b[49m\u001b[43m(\u001b[49m\u001b[43my_test\u001b[49m\u001b[43m,\u001b[49m\u001b[43myhat\u001b[49m\u001b[43m)\u001b[49m)\n\u001b[0;32m      5\u001b[0m \u001b[38;5;28mprint\u001b[39m(mt\u001b[38;5;241m.\u001b[39mclassification_report(y_test,yhat))\n",
      "File \u001b[1;32m~\\AppData\\Local\\Packages\\PythonSoftwareFoundation.Python.3.9_qbz5n2kfra8p0\\LocalCache\\local-packages\\Python39\\site-packages\\sklearn\\metrics\\_classification.py:317\u001b[0m, in \u001b[0;36mconfusion_matrix\u001b[1;34m(y_true, y_pred, labels, sample_weight, normalize)\u001b[0m\n\u001b[0;32m    232\u001b[0m \u001b[38;5;28;01mdef\u001b[39;00m \u001b[38;5;21mconfusion_matrix\u001b[39m(\n\u001b[0;32m    233\u001b[0m     y_true, y_pred, \u001b[38;5;241m*\u001b[39m, labels\u001b[38;5;241m=\u001b[39m\u001b[38;5;28;01mNone\u001b[39;00m, sample_weight\u001b[38;5;241m=\u001b[39m\u001b[38;5;28;01mNone\u001b[39;00m, normalize\u001b[38;5;241m=\u001b[39m\u001b[38;5;28;01mNone\u001b[39;00m\n\u001b[0;32m    234\u001b[0m ):\n\u001b[0;32m    235\u001b[0m \u001b[38;5;250m    \u001b[39m\u001b[38;5;124;03m\"\"\"Compute confusion matrix to evaluate the accuracy of a classification.\u001b[39;00m\n\u001b[0;32m    236\u001b[0m \n\u001b[0;32m    237\u001b[0m \u001b[38;5;124;03m    By definition a confusion matrix :math:`C` is such that :math:`C_{i, j}`\u001b[39;00m\n\u001b[1;32m   (...)\u001b[0m\n\u001b[0;32m    315\u001b[0m \u001b[38;5;124;03m    (0, 2, 1, 1)\u001b[39;00m\n\u001b[0;32m    316\u001b[0m \u001b[38;5;124;03m    \"\"\"\u001b[39;00m\n\u001b[1;32m--> 317\u001b[0m     y_type, y_true, y_pred \u001b[38;5;241m=\u001b[39m \u001b[43m_check_targets\u001b[49m\u001b[43m(\u001b[49m\u001b[43my_true\u001b[49m\u001b[43m,\u001b[49m\u001b[43m \u001b[49m\u001b[43my_pred\u001b[49m\u001b[43m)\u001b[49m\n\u001b[0;32m    318\u001b[0m     \u001b[38;5;28;01mif\u001b[39;00m y_type \u001b[38;5;129;01mnot\u001b[39;00m \u001b[38;5;129;01min\u001b[39;00m (\u001b[38;5;124m\"\u001b[39m\u001b[38;5;124mbinary\u001b[39m\u001b[38;5;124m\"\u001b[39m, \u001b[38;5;124m\"\u001b[39m\u001b[38;5;124mmulticlass\u001b[39m\u001b[38;5;124m\"\u001b[39m):\n\u001b[0;32m    319\u001b[0m         \u001b[38;5;28;01mraise\u001b[39;00m \u001b[38;5;167;01mValueError\u001b[39;00m(\u001b[38;5;124m\"\u001b[39m\u001b[38;5;132;01m%s\u001b[39;00m\u001b[38;5;124m is not supported\u001b[39m\u001b[38;5;124m\"\u001b[39m \u001b[38;5;241m%\u001b[39m y_type)\n",
      "File \u001b[1;32m~\\AppData\\Local\\Packages\\PythonSoftwareFoundation.Python.3.9_qbz5n2kfra8p0\\LocalCache\\local-packages\\Python39\\site-packages\\sklearn\\metrics\\_classification.py:95\u001b[0m, in \u001b[0;36m_check_targets\u001b[1;34m(y_true, y_pred)\u001b[0m\n\u001b[0;32m     92\u001b[0m     y_type \u001b[38;5;241m=\u001b[39m {\u001b[38;5;124m\"\u001b[39m\u001b[38;5;124mmulticlass\u001b[39m\u001b[38;5;124m\"\u001b[39m}\n\u001b[0;32m     94\u001b[0m \u001b[38;5;28;01mif\u001b[39;00m \u001b[38;5;28mlen\u001b[39m(y_type) \u001b[38;5;241m>\u001b[39m \u001b[38;5;241m1\u001b[39m:\n\u001b[1;32m---> 95\u001b[0m     \u001b[38;5;28;01mraise\u001b[39;00m \u001b[38;5;167;01mValueError\u001b[39;00m(\n\u001b[0;32m     96\u001b[0m         \u001b[38;5;124m\"\u001b[39m\u001b[38;5;124mClassification metrics can\u001b[39m\u001b[38;5;124m'\u001b[39m\u001b[38;5;124mt handle a mix of \u001b[39m\u001b[38;5;132;01m{0}\u001b[39;00m\u001b[38;5;124m and \u001b[39m\u001b[38;5;132;01m{1}\u001b[39;00m\u001b[38;5;124m targets\u001b[39m\u001b[38;5;124m\"\u001b[39m\u001b[38;5;241m.\u001b[39mformat(\n\u001b[0;32m     97\u001b[0m             type_true, type_pred\n\u001b[0;32m     98\u001b[0m         )\n\u001b[0;32m     99\u001b[0m     )\n\u001b[0;32m    101\u001b[0m \u001b[38;5;66;03m# We can't have more than one value on y_type => The set is no more needed\u001b[39;00m\n\u001b[0;32m    102\u001b[0m y_type \u001b[38;5;241m=\u001b[39m y_type\u001b[38;5;241m.\u001b[39mpop()\n",
      "\u001b[1;31mValueError\u001b[0m: Classification metrics can't handle a mix of multiclass and continuous-multioutput targets"
     ]
    }
   ],
   "source": [
    "yhat = model.predict([X_test_crossed,X_test_cat,X_test_num])\n",
    "print(y_test)\n",
    "print(yhat)\n",
    "print(mt.confusion_matrix(y_test,yhat))\n",
    "print(mt.classification_report(y_test,yhat))"
   ]
  },
  {
   "cell_type": "code",
   "execution_count": 38,
   "id": "6abb5580-8e61-49db-8ff3-4bfb66f731d0",
   "metadata": {},
   "outputs": [
    {
     "data": {
      "text/plain": [
       "Text(0.5, 0, 'epochs')"
      ]
     },
     "execution_count": 38,
     "metadata": {},
     "output_type": "execute_result"
    },
    {
     "data": {
      "image/png": "[encoded data removed]",
      "text/plain": [
       "<Figure size 1000x400 with 4 Axes>"
      ]
     },
     "metadata": {},
     "output_type": "display_data"
    }
   ],
   "source": [
    "from matplotlib import pyplot as plt\n",
    "\n",
    "%matplotlib inline\n",
    "\n",
    "plt.figure(figsize=(10,4))\n",
    "plt.subplot(2,2,1)\n",
    "plt.plot(history.history['accuracy'])\n",
    "\n",
    "plt.ylabel('Accuracy %')\n",
    "plt.title('Training')\n",
    "plt.subplot(2,2,2)\n",
    "plt.plot(history.history['val_accuracy'])\n",
    "plt.title('Validation')\n",
    "\n",
    "plt.subplot(2,2,3)\n",
    "plt.plot(history.history['loss'])\n",
    "plt.ylabel('Training Loss')\n",
    "plt.xlabel('epochs')\n",
    "\n",
    "plt.subplot(2,2,4)\n",
    "plt.plot(history.history['val_loss'])\n",
    "plt.xlabel('epochs')"
   ]
  },
  {
   "cell_type": "markdown",
   "id": "e01b1f1d-8269-450e-90a5-a97911504b4f",
   "metadata": {},
   "source": [
    "[2 points] Investigate generalization performance by altering the number of layers in the deep branch of the network. Try at least two different number of layers. Use the method of cross validation and evaluation metric that you argued for at the beginning of the lab to select the number of layers that performs superiorly. "
   ]
  },
  {
   "cell_type": "code",
   "execution_count": null,
   "id": "c9777cdc-66d6-4826-a1b6-6a1656f1f0a1",
   "metadata": {},
   "outputs": [],
   "source": []
  },
  {
   "cell_type": "markdown",
   "id": "54e0fda4-619d-42f0-ab0d-7c0e2779e342",
   "metadata": {},
   "source": [
    "[1 points] Compare the performance of your best wide and deep network to a standard multi-layer perceptron (MLP). Alternatively, you can compare to a network without the wide branch (i.e., just the deep network). .  "
   ]
  },
  {
   "cell_type": "markdown",
   "id": "63719e77-e581-4c62-8e0d-54481c3f902b",
   "metadata": {},
   "source": [
    "## 3. Additional Analysis"
   ]
  },
  {
   "cell_type": "code",
   "execution_count": null,
   "id": "7e582665-abd0-4cc9-ae09-8ad64e35cdb4",
   "metadata": {},
   "outputs": [],
   "source": []
  }
 ],
 "metadata": {
  "kernelspec": {
   "display_name": "Python 3 (ipykernel)",
   "language": "python",
   "name": "python3"
  },
  "language_info": {
   "codemirror_mode": {
    "name": "ipython",
    "version": 3
   },
   "file_extension": ".py",
   "mimetype": "text/x-python",
   "name": "python",
   "nbconvert_exporter": "python",
   "pygments_lexer": "ipython3",
   "version": "3.9.13"
  }
 },
 "nbformat": 4,
 "nbformat_minor": 5
}
